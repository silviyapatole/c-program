{
 "cells": [
  {
   "cell_type": "code",
   "execution_count": 1,
   "id": "df1c7850-9bf9-4362-a17d-36f447a9e838",
   "metadata": {},
   "outputs": [],
   "source": [
    "import numpy as np\n",
    "def f(x):\n",
    "    return np.sin(x)\n",
    "    a=0\n",
    "    b=np.pi\n",
    "    n=6\n",
    "    h=(b-a)/n\n",
    "    integral =f(a)+f(b)\n",
    "    for i in range(1,n,2):\n",
    "        integral +=4*f(a+i*h)\n",
    "        for i in range(2,n-1,2):\n",
    "            integral +=2*f(a+i*h)\n",
    "            integral +=h/3\n",
    "            print(f\"estimated value of the integral is:{integral}\")"
   ]
  },
  {
   "cell_type": "code",
   "execution_count": 2,
   "id": "06354c9d-ef22-48e8-95fa-f42d6fe98c9f",
   "metadata": {},
   "outputs": [
    {
     "name": "stdout",
     "output_type": "stream",
     "text": [
      "Original Matrix A:\n",
      "[[ 3 -2]\n",
      " [ 6 -4]]\n",
      "\n",
      "Eigenvalues (Diagonal entries of D):\n",
      "[ 1.77635684e-15 -1.00000000e+00]\n",
      "\n",
      "Diagonal Matrix D:\n",
      "[[ 1.77635684e-15  0.00000000e+00]\n",
      " [ 0.00000000e+00 -1.00000000e+00]]\n",
      "\n",
      "Matrix of Eigenvectors P:\n",
      "[[0.5547002  0.4472136 ]\n",
      " [0.83205029 0.89442719]]\n",
      "\n",
      "Reconstructed Matrix A (PDP^-1):\n",
      "[[ 3. -2.]\n",
      " [ 6. -4.]]\n"
     ]
    }
   ],
   "source": [
    "import numpy as np\n",
    "\n",
    "# Define the matrix\n",
    "A = np.array([[3, -2], [6, -4]])\n",
    "\n",
    "# Compute the eigenvalues and eigenvectors\n",
    "eigenvalues, eigenvectors = np.linalg.eig(A)\n",
    "\n",
    "# Form the diagonal matrix D from eigenvalues\n",
    "D = np.diag(eigenvalues)\n",
    "\n",
    "# P is the matrix of eigenvectors\n",
    "P = eigenvectors\n",
    "\n",
    "# Output the results\n",
    "print(\"Original Matrix A:\")\n",
    "print(A)\n",
    "print(\"\\nEigenvalues (Diagonal entries of D):\")\n",
    "print(eigenvalues)\n",
    "print(\"\\nDiagonal Matrix D:\")\n",
    "print(D)\n",
    "print(\"\\nMatrix of Eigenvectors P:\")\n",
    "print(P)\n",
    "\n",
    "# To verify A = PDP^-1, we can calculate this\n",
    "P_inv = np.linalg.inv(P)\n",
    "A_reconstructed = P @ D @ P_inv\n",
    "\n",
    "print(\"\\nReconstructed Matrix A (PDP^-1):\")\n",
    "print(A_reconstructed)"
   ]
  },
  {
   "cell_type": "code",
   "execution_count": 3,
   "id": "8d4eb183-69d3-4e10-b8c0-ae0ca0528dea",
   "metadata": {},
   "outputs": [
    {
     "name": "stdout",
     "output_type": "stream",
     "text": [
      "Value of Pi: 3.141592653589793\n",
      "Value of e: 2.718281828459045\n",
      "Sine of 30 degrees: 0.49999999999999994\n",
      "Cosine of 30 degrees: 0.8660254037844387\n"
     ]
    }
   ],
   "source": [
    "import math\n",
    "\n",
    "# Constants\n",
    "pi_value = math.pi      # Value of Pi\n",
    "e_value = math.e        # Value of e\n",
    "sin_30 = math.sin(math.radians(30))  # Sine of 30 degrees\n",
    "cos_30 = math.cos(math.radians(30))  # Cosine of 30 degrees\n",
    "\n",
    "# Print the results\n",
    "print(f\"Value of Pi: {pi_value}\")\n",
    "print(f\"Value of e: {e_value}\")\n",
    "print(f\"Sine of 30 degrees: {sin_30}\")\n",
    "print(f\"Cosine of 30 degrees: {cos_30}\")"
   ]
  },
  {
   "cell_type": "code",
   "execution_count": 4,
   "id": "c15508a4-60fb-4154-87a1-4c3810c34904",
   "metadata": {},
   "outputs": [
    {
     "name": "stdout",
     "output_type": "stream",
     "text": [
      "The modulus of -10 is 10\n",
      "The modulus of 10 is 10\n",
      "The modulus of -1 is 1\n",
      "The modulus of 1 is 1\n",
      "The modulus of 0 is 0\n"
     ]
    }
   ],
   "source": [
    "numbers = [-10, 10, -1, 1, 0]\n",
    "\n",
    "# Calculate and print the modulus values\n",
    "modulus_values = [abs(num) for num in numbers]\n",
    "\n",
    "# Output the results\n",
    "for num, modulus in zip(numbers, modulus_values):\n",
    "    print(f\"The modulus of {num} is {modulus}\")"
   ]
  },
  {
   "cell_type": "code",
   "execution_count": null,
   "id": "f44caec5-d679-4cbe-a4f0-007b67741361",
   "metadata": {},
   "outputs": [],
   "source": [
    "write python program to evaluate interpolate value f(2.5) of the given data"
   ]
  }
 ],
 "metadata": {
  "kernelspec": {
   "display_name": "Python 3 (ipykernel)",
   "language": "python",
   "name": "python3"
  },
  "language_info": {
   "codemirror_mode": {
    "name": "ipython",
    "version": 3
   },
   "file_extension": ".py",
   "mimetype": "text/x-python",
   "name": "python",
   "nbconvert_exporter": "python",
   "pygments_lexer": "ipython3",
   "version": "3.12.3"
  }
 },
 "nbformat": 4,
 "nbformat_minor": 5
}
