{
 "cells": [
  {
   "cell_type": "code",
   "execution_count": null,
   "id": "54bc7daf-7aa8-4e9f-8bc2-12eea6dc8d86",
   "metadata": {},
   "outputs": [
    {
     "name": "stdout",
     "output_type": "stream",
     "text": [
      "25\n"
     ]
    }
   ],
   "source": [
    "odd_numbers=[]\n",
    "num=25\n",
    "while num<=50:\n",
    "    if num % 2 != 0:\n",
    "        print(num)\n",
    "        num += 1"
   ]
  },
  {
   "cell_type": "code",
   "execution_count": null,
   "id": "3a62b0b8-a83f-4b9e-a73d-7a0d5a0879d7",
   "metadata": {},
   "outputs": [],
   "source": [
    "import numpy as np\n",
    "\n",
    "# Define the matrix A\n",
    "A = np.array([[1, 0, 5, 4], [2, 1, 6, -1], [3, 4, 0, 2]])\n",
    "\n",
    "# a. Delete 2nd row (index 1)\n",
    "A = np.delete(A, 1, axis=0)\n",
    "\n",
    "# b. Delete 1st column (index 0)\n",
    "A = np.delete(A, 0, axis=1)\n",
    "\n",
    "# c. Add column [9, 9] as the 2nd column (index 1)\n",
    "new_column = np.array([9, 9]).reshape(-1, 1)\n",
    "A = np.insert(A, 1, new_column, axis=1)\n",
    "\n",
    "# Display the result\n",
    "print(A)"
   ]
  },
  {
   "cell_type": "code",
   "execution_count": null,
   "id": "dd3e30ab-2018-4234-81ff-af5bf705c97b",
   "metadata": {},
   "outputs": [],
   "source": [
    "import numpy as np\n",
    "\n",
    "# Define the matrix A\n",
    "A = np.array([[1, 0, 5, 4], [2, 1, 6, -1], [3, 4, 0, 2]])\n",
    "\n",
    "# a. Delete 2nd row (index 1)\n",
    "A = np.delete(A, 1, axis=0)\n",
    "\n",
    "# b. Delete 1st column (index 0)\n",
    "A = np.delete(A, 0, axis=1)\n",
    "\n",
    "# c. Add column [9, 9] as the 2nd column (index 1)\n",
    "new_column = np.array([9, 9]).reshape(-1, 1)\n",
    "A = np.insert(A, 1, new_column, axis=1)\n",
    "\n",
    "# Display the result\n",
    "print(A)"
   ]
  },
  {
   "cell_type": "code",
   "execution_count": null,
   "id": "d2ebb5e2-d6fd-4ac9-a4f3-af4bac3a05f5",
   "metadata": {},
   "outputs": [],
   "source": []
  }
 ],
 "metadata": {
  "kernelspec": {
   "display_name": "Python 3 (ipykernel)",
   "language": "python",
   "name": "python3"
  },
  "language_info": {
   "codemirror_mode": {
    "name": "ipython",
    "version": 3
   },
   "file_extension": ".py",
   "mimetype": "text/x-python",
   "name": "python",
   "nbconvert_exporter": "python",
   "pygments_lexer": "ipython3",
   "version": "3.12.3"
  }
 },
 "nbformat": 4,
 "nbformat_minor": 5
}
