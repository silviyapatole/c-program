{
 "cells": [
  {
   "cell_type": "code",
   "execution_count": null,
   "id": "130a55df-e01c-4d52-8b89-914dcb69d66a",
   "metadata": {},
   "outputs": [],
   "source": [
    "import numpy as np\n",
    "\n",
    "# Create two matrices using np.array()\n",
    "matrix_1 = np.array([[1, 2, 3],\n",
    "                     [4, 5, 6],\n",
    "                     [7, 8, 9]])\n",
    "\n",
    "matrix_2 = np.array([[9, 8, 7],\n",
    "                     [6, 5, 4],\n",
    "                     [3, 2, 1]])\n",
    "\n",
    "# Add the two matrices\n",
    "result = np.add(matrix_1, matrix_2)\n",
    "\n",
    "# Display the result\n",
    "print(\"Matrix 1:\")\n",
    "print(matrix_1)\n",
    "\n",
    "print(\"\\nMatrix 2:\")\n",
    "print(matrix_2)\n",
    "\n",
    "print(\"\\nResult of Matrix Addition:\")\n",
    "print(result)"
   ]
  }
 ],
 "metadata": {
  "kernelspec": {
   "display_name": "Python 3 (ipykernel)",
   "language": "python",
   "name": "python3"
  },
  "language_info": {
   "codemirror_mode": {
    "name": "ipython",
    "version": 3
   },
   "file_extension": ".py",
   "mimetype": "text/x-python",
   "name": "python",
   "nbconvert_exporter": "python",
   "pygments_lexer": "ipython3",
   "version": "3.12.3"
  }
 },
 "nbformat": 4,
 "nbformat_minor": 5
}
