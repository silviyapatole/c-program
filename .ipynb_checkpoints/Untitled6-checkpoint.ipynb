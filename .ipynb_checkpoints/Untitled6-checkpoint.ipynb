{
 "cells": [
  {
   "cell_type": "code",
   "execution_count": null,
   "id": "51f2b9a3-9206-43fc-af96-761e2f921004",
   "metadata": {},
   "outputs": [],
   "source": [
    "odd_numbers=[]\n",
    "num=25\n",
    "while num<=50:\n",
    "    if num % 2 != 0:\n",
    "        print(num)\n",
    "        num += 1"
   ]
  },
  {
   "cell_type": "code",
   "execution_count": null,
   "id": "a8ac1237-0aef-45c6-afa3-b2e239039963",
   "metadata": {},
   "outputs": [],
   "source": []
  },
  {
   "cell_type": "code",
   "execution_count": null,
   "id": "bab3f752-68ec-4f75-a0be-39a2ee0ad646",
   "metadata": {},
   "outputs": [],
   "source": [
    "odd_numbers=[]\n",
    "num=25\n",
    "while num<=50:\n",
    "    if num % 2 !=0:\n",
    "        odd_numbers.append(num)\n",
    "        num+=1\n",
    "        odd_numbers"
   ]
  },
  {
   "cell_type": "code",
   "execution_count": null,
   "id": "791c9a7a-0dda-40c6-acb2-082ad7954d6d",
   "metadata": {},
   "outputs": [],
   "source": []
  },
  {
   "cell_type": "code",
   "execution_count": null,
   "id": "408784d1-55be-4e16-bf5d-6d0d82003d61",
   "metadata": {},
   "outputs": [],
   "source": [
    "odd_numbers=[]\n",
    "num = 25\n",
    "while num <= 50:\n",
    "    if num % 2 != 0:\n",
    "        num += 1\n",
    "        print(num)"
   ]
  },
  {
   "cell_type": "code",
   "execution_count": null,
   "id": "60160938-78e4-4bf1-8e52-2a614fd61333",
   "metadata": {},
   "outputs": [],
   "source": []
  },
  {
   "cell_type": "code",
   "execution_count": null,
   "id": "9e8691db-9df6-4b60-88c3-d341f9cf6319",
   "metadata": {},
   "outputs": [],
   "source": [
    "import numpy as np\n",
    "A=np.array([[1,0,5,4],[2,1,6,-1],[3,4,0.2]])\n",
    "A=np.delete(A,1,axis=0)\n",
    "Anp.delete(A,0,axis=1)\n",
    "new_column=np.array([9,9]).reshape(-1,1)\n",
    "A=np.insert(A,1,new_column,axis=1)\n",
    "print(A)"
   ]
  },
  {
   "cell_type": "code",
   "execution_count": null,
   "id": "b0444174-4014-420c-9299-f9e4b762ec43",
   "metadata": {},
   "outputs": [],
   "source": []
  }
 ],
 "metadata": {
  "kernelspec": {
   "display_name": "Python 3 (ipykernel)",
   "language": "python",
   "name": "python3"
  },
  "language_info": {
   "codemirror_mode": {
    "name": "ipython",
    "version": 3
   },
   "file_extension": ".py",
   "mimetype": "text/x-python",
   "name": "python",
   "nbconvert_exporter": "python",
   "pygments_lexer": "ipython3",
   "version": "3.12.3"
  }
 },
 "nbformat": 4,
 "nbformat_minor": 5
}
