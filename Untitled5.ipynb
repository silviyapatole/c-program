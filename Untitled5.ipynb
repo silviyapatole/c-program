{
 "cells": [
  {
   "cell_type": "code",
   "execution_count": 3,
   "id": "70a59265-a9f1-45a1-ad90-2d715956eafb",
   "metadata": {},
   "outputs": [
    {
     "name": "stdout",
     "output_type": "stream",
     "text": [
      "-40.0\n"
     ]
    }
   ],
   "source": [
    "result_a=23%2+9-(3+7)*10/2\n",
    "#print(f'result_a',{result_a})\n",
    "print(result_a)"
   ]
  },
  {
   "cell_type": "code",
   "execution_count": 5,
   "id": "2d3a2130-1833-4364-8720-3edd68c058c2",
   "metadata": {},
   "outputs": [
    {
     "name": "stdout",
     "output_type": "stream",
     "text": [
      "116\n"
     ]
    }
   ],
   "source": [
    "result_b=35*10//3+15%3\n",
    "print(result_b)"
   ]
  },
  {
   "cell_type": "code",
   "execution_count": 6,
   "id": "a1f71c4f-4e68-4647-80a7-dd5277bbd0cd",
   "metadata": {},
   "outputs": [
    {
     "name": "stdout",
     "output_type": "stream",
     "text": [
      "5\n"
     ]
    }
   ],
   "source": [
    "result_c=3*5-2*5+4//7\n",
    "print(result_c)"
   ]
  },
  {
   "cell_type": "code",
   "execution_count": null,
   "id": "99936b8a-068a-4da0-b29e-80e53591aabd",
   "metadata": {},
   "outputs": [],
   "source": [
    "odd_numbers=[]\n",
    "num=25\n",
    "while num<=50:\n",
    "    if num % 2 !=0:\n",
    "        odd_numbers.append(num)\n",
    "        num+=1"
   ]
  },
  {
   "cell_type": "code",
   "execution_count": null,
   "id": "93c5ad42-540f-4001-823f-d6dfa1934a20",
   "metadata": {},
   "outputs": [],
   "source": []
  },
  {
   "cell_type": "code",
   "execution_count": null,
   "id": "86989290-36b6-4d58-a535-2cf3d2a7eea3",
   "metadata": {},
   "outputs": [],
   "source": []
  }
 ],
 "metadata": {
  "kernelspec": {
   "display_name": "Python 3 (ipykernel)",
   "language": "python",
   "name": "python3"
  },
  "language_info": {
   "codemirror_mode": {
    "name": "ipython",
    "version": 3
   },
   "file_extension": ".py",
   "mimetype": "text/x-python",
   "name": "python",
   "nbconvert_exporter": "python",
   "pygments_lexer": "ipython3",
   "version": "3.12.3"
  }
 },
 "nbformat": 4,
 "nbformat_minor": 5
}
