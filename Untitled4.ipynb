{
 "cells": [
  {
   "cell_type": "code",
   "execution_count": 1,
   "id": "33ecf026-18e8-4d17-b43f-8a8342463583",
   "metadata": {},
   "outputs": [
    {
     "name": "stdout",
     "output_type": "stream",
     "text": [
      "Estimated value of the integral: 2.0008631896735363\n"
     ]
    }
   ],
   "source": [
    "import numpy as np\n",
    "\n",
    "def f(x):\n",
    "    return np.sin(x)\n",
    "\n",
    "def simpsons_rule(a, b, n):\n",
    "    \n",
    "    if n % 2 != 0:\n",
    "        raise ValueError(\"n must be even\")\n",
    "\n",
    "    h = (b - a) / n\n",
    "    x = np.linspace(a, b, n + 1)\n",
    "    fx = f(x)\n",
    "    \n",
    "    integral = fx[0] + fx[-1]\n",
    "    for i in range(1, n, 2):\n",
    "        integral += 4 * fx[i]\n",
    "    for i in range(2, n - 1, 2):\n",
    "        integral += 2 * fx[i]\n",
    "    \n",
    "    integral *= h / 3\n",
    "    return integral\n",
    "\n",
    "a = 0\n",
    "b = np.pi\n",
    "n = 6\n",
    "\n",
    "result = simpsons_rule(a, b, n)\n",
    "print(f\"Estimated value of the integral: {result}\")"
   ]
  },
  {
   "cell_type": "code",
   "execution_count": null,
   "id": "1fca3118-4134-40cf-8ab1-dbdce587d316",
   "metadata": {},
   "outputs": [],
   "source": []
  }
 ],
 "metadata": {
  "kernelspec": {
   "display_name": "Python 3 (ipykernel)",
   "language": "python",
   "name": "python3"
  },
  "language_info": {
   "codemirror_mode": {
    "name": "ipython",
    "version": 3
   },
   "file_extension": ".py",
   "mimetype": "text/x-python",
   "name": "python",
   "nbconvert_exporter": "python",
   "pygments_lexer": "ipython3",
   "version": "3.12.3"
  }
 },
 "nbformat": 4,
 "nbformat_minor": 5
}
