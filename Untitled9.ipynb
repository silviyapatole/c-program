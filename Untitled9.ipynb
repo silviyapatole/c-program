{
 "cells": [
  {
   "cell_type": "code",
   "execution_count": null,
   "id": "9d5776ae-6aed-415a-a6d9-bb8a2ffc33e9",
   "metadata": {},
   "outputs": [],
   "source": []
  }
 ],
 "metadata": {
  "kernelspec": {
   "display_name": "",
   "name": ""
  },
  "language_info": {
   "name": ""
  }
 },
 "nbformat": 4,
 "nbformat_minor": 5
}
