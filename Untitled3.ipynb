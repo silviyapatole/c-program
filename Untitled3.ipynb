{
 "cells": [
  {
   "cell_type": "code",
   "execution_count": 1,
   "id": "f302fa54-df0e-4afd-b21d-ca29a935b952",
   "metadata": {},
   "outputs": [
    {
     "name": "stdout",
     "output_type": "stream",
     "text": [
      "-93.0\n"
     ]
    }
   ],
   "source": [
    "#part a\n",
    "result_a=20%2+7-(3+7)*20/2\n",
    "print(result_a)"
   ]
  },
  {
   "cell_type": "code",
   "execution_count": 2,
   "id": "1b3d9cb7-02e7-4f9c-bade-d97a721aeeba",
   "metadata": {},
   "outputs": [
    {
     "name": "stdout",
     "output_type": "stream",
     "text": [
      "ones matrix(5*4):\n",
      " [[1. 1. 1. 1.]\n",
      " [1. 1. 1. 1.]\n",
      " [1. 1. 1. 1.]\n",
      " [1. 1. 1. 1.]\n",
      " [1. 1. 1. 1.]]\n"
     ]
    }
   ],
   "source": [
    "import numpy as np\n",
    "\n",
    "ones_matrix=np.ones((5,4))\n",
    "print(\"ones matrix(5*4):\\n\",ones_matrix)"
   ]
  },
  {
   "cell_type": "code",
   "execution_count": 3,
   "id": "72118ff4-8fae-4824-a78e-6706357f47f7",
   "metadata": {},
   "outputs": [
    {
     "name": "stdout",
     "output_type": "stream",
     "text": [
      "10th term of the sequence f(x)=x**2+x:110\n"
     ]
    }
   ],
   "source": [
    "def sequence_function(x):\n",
    "    return x**2+x\n",
    "tenth_term=sequence_function(10)\n",
    "print(f\"10th term of the sequence f(x)=x**2+x:{tenth_term}\")"
   ]
  },
  {
   "cell_type": "code",
   "execution_count": 4,
   "id": "6c7730ee-6bd7-4ab7-b7c6-fb0c272afa50",
   "metadata": {},
   "outputs": [
    {
     "name": "stdout",
     "output_type": "stream",
     "text": [
      "Estimated value of the integral: 2.0008631896735363\n"
     ]
    }
   ],
   "source": [
    "import numpy as np\n",
    "\n",
    "def f(x):\n",
    "    return np.sin(x)\n",
    "\n",
    "def simpsons_rule(a, b, n):\n",
    "    \n",
    "    if n % 2 != 0:\n",
    "        raise ValueError(\"n must be even\")\n",
    "\n",
    "    h = (b - a) / n\n",
    "    x = np.linspace(a, b, n + 1)\n",
    "    fx = f(x)\n",
    "    \n",
    "    integral = fx[0] + fx[-1]\n",
    "    for i in range(1, n, 2):\n",
    "        integral += 4 * fx[i]\n",
    "    for i in range(2, n - 1, 2):\n",
    "        integral += 2 * fx[i]\n",
    "    \n",
    "    integral *= h / 3\n",
    "    return integral\n",
    "\n",
    "a = 0\n",
    "b = np.pi\n",
    "n = 6\n",
    "\n",
    "result = simpsons_rule(a, b, n)\n",
    "print(f\"Estimated value of the integral: {result}\")"
   ]
  },
  {
   "cell_type": "code",
   "execution_count": 6,
   "id": "1b0dd852-c3a6-45f7-a4d4-3b10335b7e94",
   "metadata": {},
   "outputs": [],
   "source": [
    "import numpy as np\n",
    "def f(x):\n",
    "    return np.sin(x)\n",
    "    def simpsons_rule(f,a,b,n):\n",
    "        if n % 2 !=0:\n",
    "            raise valueerror(\"n must be even for simpsons rule\")\n",
    "            h=(b-a)/n\n",
    "            x=np.linspace(a,b,n+1)\n",
    "            y=f(x)\n",
    "            s=y[0]+y[-1]+4*np.sum(y[1:-1:2])+2*np.sum(y[2:-2:2])\n",
    "            return(h/3)*s\n",
    "            a=0\n",
    "            b=np.pi\n",
    "            n=6\n",
    "            result=simpsons_rule(f,a,b,n)\n",
    "            print(f\"estimated value of the integral using simpsons rule:{result}\")"
   ]
  },
  {
   "cell_type": "code",
   "execution_count": null,
   "id": "edf8e1d1-df99-4e87-94e5-c919f40c587f",
   "metadata": {},
   "outputs": [],
   "source": []
  },
  {
   "cell_type": "code",
   "execution_count": null,
   "id": "7d24d3c5-a4b8-43fb-bdd0-4d229b47e77a",
   "metadata": {},
   "outputs": [],
   "source": []
  }
 ],
 "metadata": {
  "kernelspec": {
   "display_name": "Python 3 (ipykernel)",
   "language": "python",
   "name": "python3"
  },
  "language_info": {
   "codemirror_mode": {
    "name": "ipython",
    "version": 3
   },
   "file_extension": ".py",
   "mimetype": "text/x-python",
   "name": "python",
   "nbconvert_exporter": "python",
   "pygments_lexer": "ipython3",
   "version": "3.12.3"
  }
 },
 "nbformat": 4,
 "nbformat_minor": 5
}
